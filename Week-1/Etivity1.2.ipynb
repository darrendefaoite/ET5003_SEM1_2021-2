{
 "cells": [
  {
   "cell_type": "markdown",
   "metadata": {},
   "source": [
    "<div>\n",
    "<img src=\"https://drive.google.com/uc?export=view&id=1vK33e_EqaHgBHcbRV_m38hx6IkG0blK_\" width=\"350\"/>\n",
    "</div> \n",
    "\n",
    "# **Artificial Intelligence - MSc**\n",
    "ET5003 - MACHINE LEARNING APPLICATIONS \n",
    "\n",
    "### Instructor: Enrique Naredo\n",
    "### ET5003_Etivity-1"
   ]
  },
  {
   "cell_type": "markdown",
   "metadata": {
    "id": "njreY-y2rWri"
   },
   "source": [
    "# Introduction\n",
    "16154541 -\n",
    "Darren White\n",
    "\n",
    "### Explanation of the problem\n",
    "The problem presented is to use Bayesian multinomial logistic regression to classify images from the MNIST database of handwritten digits."
   ]
  },
  {
   "cell_type": "markdown",
   "metadata": {
    "id": "ZUO2huY8riAH"
   },
   "source": [
    "# Dataset  \n",
    "The MNIST database is a set of images of handwritten digits. The database contains 60,000 training images and 10,000 testing images. The database is based on the NIST database. The NIST database was compiled from American Census Bureau employees and high school students. The training set comes from the American Census Bureau employees and the testing set has been taken from American high school students. As a result of the difference between the groups it was posited that this database may not be efficient for machine learning.\n",
    "\n",
    "The MNIST database is compiled as follows;\n",
    "\n",
    "* 50% of the training data is taken from the NIST training set.\n",
    "* 50% of the training data is taken from the NIST test set.\n",
    "* 50% of the testing data is taken from the NIST training set.\n",
    "* 50% of the testing data is taken from the NIST test set.\n",
    "\n",
    "The MNIST database is maintained by Yann LeCun, (Courant Institute, NYU) Corinna Cortes, (Google Labs, New York) and Christopher J.C. Burges, (Microsoft Research, Redmond)."
   ]
  },
  {
   "cell_type": "markdown",
   "metadata": {
    "id": "UmLHIu1GrdrT"
   },
   "source": [
    "# Method  \n",
    "\n",
    "Multinomial Logistic Regression (MLR) is used to classify the images in the MNIST database.  \n",
    "  \n",
    "MLR is an extension of Binary Logistic Regression (BLR) in which numerous binary models are deployed simultaneously.  \n",
    "Multinomial logistic regression is used to classify categorial outcomes rather than continuous outcomes. Multinomial models do not assume normality, linearity or homoscedasticity. This makes it a strong modelling choice as real world data can often display these imperfections.\n"
   ]
  },
  {
   "cell_type": "markdown",
   "metadata": {
    "id": "CbKa4wYeroVl"
   },
   "source": [
    "# Code"
   ]
  },
  {
   "cell_type": "markdown",
   "metadata": {
    "id": "DTcMhZiSuMhj"
   },
   "source": [
    "## Imports"
   ]
  },
  {
   "cell_type": "code",
   "execution_count": 1,
   "metadata": {
    "executionInfo": {
     "elapsed": 6,
     "status": "ok",
     "timestamp": 1631635634845,
     "user": {
      "displayName": "Darren White",
      "photoUrl": "https://lh3.googleusercontent.com/a/default-user=s64",
      "userId": "00026904046173700318"
     },
     "user_tz": -60
    },
    "id": "A-ze-eYfrv96"
   },
   "outputs": [],
   "source": [
    "# Suppressing Warnings:\n",
    "import warnings\n",
    "warnings.filterwarnings(\"ignore\")"
   ]
  },
  {
   "cell_type": "code",
   "execution_count": 2,
   "metadata": {
    "colab": {
     "base_uri": "https://localhost:8080/"
    },
    "executionInfo": {
     "elapsed": 8819,
     "status": "ok",
     "timestamp": 1631635643659,
     "user": {
      "displayName": "Darren White",
      "photoUrl": "https://lh3.googleusercontent.com/a/default-user=s64",
      "userId": "00026904046173700318"
     },
     "user_tz": -60
    },
    "id": "HoLsTglZ__Bh",
    "outputId": "232e1bcf-82e4-430c-8b9b-af4b5f6bb719"
   },
   "outputs": [
    {
     "name": "stdout",
     "output_type": "stream",
     "text": [
      "Requirement already satisfied: opencv-python in /home/jim/anaconda3/envs/ET5003/lib/python3.7/site-packages (4.5.3.56)\n",
      "Requirement already satisfied: numpy>=1.14.5 in /home/jim/anaconda3/envs/ET5003/lib/python3.7/site-packages (from opencv-python) (1.19.1)\n",
      "Requirement already satisfied: scikit-image in /home/jim/anaconda3/envs/ET5003/lib/python3.7/site-packages (0.16.2)\n",
      "Requirement already satisfied: scipy>=0.19.0 in /home/jim/anaconda3/envs/ET5003/lib/python3.7/site-packages (from scikit-image) (1.5.2)\n",
      "Requirement already satisfied: networkx>=2.0 in /home/jim/anaconda3/envs/ET5003/lib/python3.7/site-packages (from scikit-image) (2.5)\n",
      "Requirement already satisfied: pillow>=4.3.0 in /home/jim/anaconda3/envs/ET5003/lib/python3.7/site-packages (from scikit-image) (7.2.0)\n",
      "Requirement already satisfied: imageio>=2.3.0 in /home/jim/anaconda3/envs/ET5003/lib/python3.7/site-packages (from scikit-image) (2.9.0)\n",
      "Requirement already satisfied: matplotlib!=3.0.0,>=2.0.0 in /home/jim/anaconda3/envs/ET5003/lib/python3.7/site-packages (from scikit-image) (3.3.1)\n",
      "Requirement already satisfied: PyWavelets>=0.4.0 in /home/jim/anaconda3/envs/ET5003/lib/python3.7/site-packages (from scikit-image) (1.1.1)\n",
      "Requirement already satisfied: numpy>=1.14.5 in /home/jim/anaconda3/envs/ET5003/lib/python3.7/site-packages (from scipy>=0.19.0->scikit-image) (1.19.1)\n",
      "Requirement already satisfied: decorator>=4.3.0 in /home/jim/anaconda3/envs/ET5003/lib/python3.7/site-packages (from networkx>=2.0->scikit-image) (4.4.2)\n",
      "Requirement already satisfied: cycler>=0.10 in /home/jim/anaconda3/envs/ET5003/lib/python3.7/site-packages (from matplotlib!=3.0.0,>=2.0.0->scikit-image) (0.10.0)\n",
      "Requirement already satisfied: python-dateutil>=2.1 in /home/jim/anaconda3/envs/ET5003/lib/python3.7/site-packages (from matplotlib!=3.0.0,>=2.0.0->scikit-image) (2.8.1)\n",
      "Requirement already satisfied: kiwisolver>=1.0.1 in /home/jim/anaconda3/envs/ET5003/lib/python3.7/site-packages (from matplotlib!=3.0.0,>=2.0.0->scikit-image) (1.2.0)\n",
      "Requirement already satisfied: pyparsing!=2.0.4,!=2.1.2,!=2.1.6,>=2.0.3 in /home/jim/anaconda3/envs/ET5003/lib/python3.7/site-packages (from matplotlib!=3.0.0,>=2.0.0->scikit-image) (2.4.7)\n",
      "Requirement already satisfied: certifi>=2020.06.20 in /home/jim/anaconda3/envs/ET5003/lib/python3.7/site-packages (from matplotlib!=3.0.0,>=2.0.0->scikit-image) (2020.6.20)\n",
      "Requirement already satisfied: six in /home/jim/anaconda3/envs/ET5003/lib/python3.7/site-packages (from cycler>=0.10->matplotlib!=3.0.0,>=2.0.0->scikit-image) (1.15.0)\n",
      "Requirement already satisfied: arviz in /home/jim/anaconda3/envs/ET5003/lib/python3.7/site-packages (0.11.2)\n",
      "Requirement already satisfied: packaging in /home/jim/anaconda3/envs/ET5003/lib/python3.7/site-packages (from arviz) (20.4)\n",
      "Requirement already satisfied: matplotlib>=3.0 in /home/jim/anaconda3/envs/ET5003/lib/python3.7/site-packages (from arviz) (3.3.1)\n",
      "Requirement already satisfied: scipy>=0.19 in /home/jim/anaconda3/envs/ET5003/lib/python3.7/site-packages (from arviz) (1.5.2)\n",
      "Requirement already satisfied: numpy>=1.12 in /home/jim/anaconda3/envs/ET5003/lib/python3.7/site-packages (from arviz) (1.19.1)\n",
      "Requirement already satisfied: setuptools>=38.4 in /home/jim/anaconda3/envs/ET5003/lib/python3.7/site-packages (from arviz) (49.6.0.post20200814)\n",
      "Requirement already satisfied: xarray>=0.16.1 in /home/jim/anaconda3/envs/ET5003/lib/python3.7/site-packages (from arviz) (0.19.0)\n",
      "Requirement already satisfied: pandas>=0.23 in /home/jim/anaconda3/envs/ET5003/lib/python3.7/site-packages (from arviz) (1.1.1)\n",
      "Requirement already satisfied: netcdf4 in /home/jim/anaconda3/envs/ET5003/lib/python3.7/site-packages (from arviz) (1.5.7)\n",
      "Requirement already satisfied: typing-extensions<4,>=3.7.4.3 in /home/jim/anaconda3/envs/ET5003/lib/python3.7/site-packages (from arviz) (3.7.4.3)\n",
      "Requirement already satisfied: pyparsing>=2.0.2 in /home/jim/anaconda3/envs/ET5003/lib/python3.7/site-packages (from packaging->arviz) (2.4.7)\n",
      "Requirement already satisfied: six in /home/jim/anaconda3/envs/ET5003/lib/python3.7/site-packages (from packaging->arviz) (1.15.0)\n",
      "Requirement already satisfied: kiwisolver>=1.0.1 in /home/jim/anaconda3/envs/ET5003/lib/python3.7/site-packages (from matplotlib>=3.0->arviz) (1.2.0)\n",
      "Requirement already satisfied: cycler>=0.10 in /home/jim/anaconda3/envs/ET5003/lib/python3.7/site-packages (from matplotlib>=3.0->arviz) (0.10.0)\n",
      "Requirement already satisfied: pillow>=6.2.0 in /home/jim/anaconda3/envs/ET5003/lib/python3.7/site-packages (from matplotlib>=3.0->arviz) (7.2.0)\n",
      "Requirement already satisfied: certifi>=2020.06.20 in /home/jim/anaconda3/envs/ET5003/lib/python3.7/site-packages (from matplotlib>=3.0->arviz) (2020.6.20)\n",
      "Requirement already satisfied: python-dateutil>=2.1 in /home/jim/anaconda3/envs/ET5003/lib/python3.7/site-packages (from matplotlib>=3.0->arviz) (2.8.1)\n",
      "Requirement already satisfied: pytz>=2017.2 in /home/jim/anaconda3/envs/ET5003/lib/python3.7/site-packages (from pandas>=0.23->arviz) (2020.1)\n",
      "Requirement already satisfied: cftime in /home/jim/anaconda3/envs/ET5003/lib/python3.7/site-packages (from netcdf4->arviz) (1.5.0)\n"
     ]
    }
   ],
   "source": [
    "! pip install opencv-python\n",
    "! pip install scikit-image\n",
    "! pip install arviz"
   ]
  },
  {
   "cell_type": "code",
   "execution_count": 3,
   "metadata": {
    "executionInfo": {
     "elapsed": 5,
     "status": "ok",
     "timestamp": 1631635643659,
     "user": {
      "displayName": "Darren White",
      "photoUrl": "https://lh3.googleusercontent.com/a/default-user=s64",
      "userId": "00026904046173700318"
     },
     "user_tz": -60
    },
    "id": "UQC59pGKrwWr"
   },
   "outputs": [],
   "source": [
    "# Used to perform logistic regression, scoring, shuffle & split of dataset\n",
    "#  to training & test\n",
    "from sklearn.linear_model import LogisticRegression\n",
    "from sklearn.metrics import accuracy_score\n",
    "from sklearn.model_selection import train_test_split\n",
    "from sklearn.utils import shuffle\n",
    "# Used to fetch MNIST dataset, works locally & on Google Colab\n",
    "from sklearn.datasets import fetch_openml\n",
    "\n",
    "# Used to generate probabilistic multinomial model\n",
    "import pymc3 as pm\n",
    "# Used for numerical operations, generating tensors for PyMC3 usage\n",
    "import theano as tt\n",
    "# Used for numerical operations\n",
    "import numpy as np\n",
    "# Used to generate random numbers to draw samples from dataset\n",
    "import random\n",
    "# Used in plotting images & graphs\n",
    "import matplotlib.pyplot as plt\n",
    "\n",
    "from IPython.display import HTML\n",
    "%matplotlib inline"
   ]
  },
  {
   "cell_type": "markdown",
   "metadata": {
    "id": "FB2hASw6ujKX"
   },
   "source": [
    "## Load Data"
   ]
  },
  {
   "cell_type": "code",
   "execution_count": 4,
   "metadata": {
    "executionInfo": {
     "elapsed": 29353,
     "status": "ok",
     "timestamp": 1631635673008,
     "user": {
      "displayName": "Darren White",
      "photoUrl": "https://lh3.googleusercontent.com/a/default-user=s64",
      "userId": "00026904046173700318"
     },
     "user_tz": -60
    },
    "id": "SlaTusn0uhm6"
   },
   "outputs": [],
   "source": [
    "mnist = fetch_openml('mnist_784', cache=False)"
   ]
  },
  {
   "cell_type": "code",
   "execution_count": 5,
   "metadata": {
    "executionInfo": {
     "elapsed": 17,
     "status": "ok",
     "timestamp": 1631635673013,
     "user": {
      "displayName": "Darren White",
      "photoUrl": "https://lh3.googleusercontent.com/a/default-user=s64",
      "userId": "00026904046173700318"
     },
     "user_tz": -60
    },
    "id": "0qKHg-z20cvF"
   },
   "outputs": [],
   "source": [
    "X = mnist.data.astype('float32')\n",
    "y = mnist.target.astype('int64')"
   ]
  },
  {
   "cell_type": "code",
   "execution_count": 6,
   "metadata": {
    "executionInfo": {
     "elapsed": 15,
     "status": "ok",
     "timestamp": 1631635673014,
     "user": {
      "displayName": "Darren White",
      "photoUrl": "https://lh3.googleusercontent.com/a/default-user=s64",
      "userId": "00026904046173700318"
     },
     "user_tz": -60
    },
    "id": "_uxeILS0qsCU"
   },
   "outputs": [],
   "source": [
    "X /= 255.0"
   ]
  },
  {
   "cell_type": "code",
   "execution_count": 7,
   "metadata": {
    "colab": {
     "base_uri": "https://localhost:8080/"
    },
    "executionInfo": {
     "elapsed": 15,
     "status": "ok",
     "timestamp": 1631635673015,
     "user": {
      "displayName": "Darren White",
      "photoUrl": "https://lh3.googleusercontent.com/a/default-user=s64",
      "userId": "00026904046173700318"
     },
     "user_tz": -60
    },
    "id": "27Q89QrAqscy",
    "outputId": "5f3065c4-1859-495c-bb45-27a283d4e762"
   },
   "outputs": [
    {
     "data": {
      "text/plain": [
       "(0.0, 1.0)"
      ]
     },
     "execution_count": 7,
     "metadata": {},
     "output_type": "execute_result"
    }
   ],
   "source": [
    "X.min(), X.max()"
   ]
  },
  {
   "cell_type": "markdown",
   "metadata": {},
   "source": [
    "The use of `sklearn.datasets` through `fetch_openml()` to gather the MNIST dataset allows the notebook to run on both Google Colab and locally without change to the code.  "
   ]
  },
  {
   "cell_type": "markdown",
   "metadata": {
    "id": "7FnJVGHouuvo"
   },
   "source": [
    "## Preprocessing"
   ]
  },
  {
   "cell_type": "markdown",
   "metadata": {},
   "source": [
    "We split the MNIST data into a train and test set with 75% as training data and 25% as test data."
   ]
  },
  {
   "cell_type": "code",
   "execution_count": 8,
   "metadata": {
    "executionInfo": {
     "elapsed": 344,
     "status": "ok",
     "timestamp": 1631635673725,
     "user": {
      "displayName": "Darren White",
      "photoUrl": "https://lh3.googleusercontent.com/a/default-user=s64",
      "userId": "00026904046173700318"
     },
     "user_tz": -60
    },
    "id": "BvSKKgaU0t0K"
   },
   "outputs": [],
   "source": [
    "# assigning features and labels    \n",
    "X_train, X_test, y_train, y_test = train_test_split(X, y, test_size=0.25, random_state=42)"
   ]
  },
  {
   "cell_type": "code",
   "execution_count": 9,
   "metadata": {
    "executionInfo": {
     "elapsed": 8,
     "status": "ok",
     "timestamp": 1631635673725,
     "user": {
      "displayName": "Darren White",
      "photoUrl": "https://lh3.googleusercontent.com/a/default-user=s64",
      "userId": "00026904046173700318"
     },
     "user_tz": -60
    },
    "id": "6L8n5dkFrYDp"
   },
   "outputs": [],
   "source": [
    "assert(X_train.shape[0] + X_test.shape[0] == mnist.data.shape[0])"
   ]
  },
  {
   "cell_type": "code",
   "execution_count": 10,
   "metadata": {
    "colab": {
     "base_uri": "https://localhost:8080/"
    },
    "executionInfo": {
     "elapsed": 8,
     "status": "ok",
     "timestamp": 1631635673726,
     "user": {
      "displayName": "Darren White",
      "photoUrl": "https://lh3.googleusercontent.com/a/default-user=s64",
      "userId": "00026904046173700318"
     },
     "user_tz": -60
    },
    "id": "O3v5Gts4rYcS",
    "outputId": "eafd065a-2206-4b2b-e618-e483f9f581ef"
   },
   "outputs": [
    {
     "data": {
      "text/plain": [
       "((52500, 784), (52500,))"
      ]
     },
     "execution_count": 10,
     "metadata": {},
     "output_type": "execute_result"
    }
   ],
   "source": [
    "X_train.shape, y_train.shape"
   ]
  },
  {
   "cell_type": "code",
   "execution_count": 11,
   "metadata": {
    "executionInfo": {
     "elapsed": 5,
     "status": "ok",
     "timestamp": 1631635673726,
     "user": {
      "displayName": "Darren White",
      "photoUrl": "https://lh3.googleusercontent.com/a/default-user=s64",
      "userId": "00026904046173700318"
     },
     "user_tz": -60
    },
    "id": "RtOpcXKT1WR2"
   },
   "outputs": [],
   "source": [
    "def plot_example(X: np.array, y: np.array, n: int=5, plot_title: str=None) -> None:\n",
    "    \"\"\"Plots the first 'n' images and their labels in a row.\n",
    "    \n",
    "    Args:\n",
    "        X (numpy array): Image data with each row of array contining an image\n",
    "                         as a flat vector\n",
    "        y (numpy array): Image labels\n",
    "        n (int): Number of images to display\n",
    "        plot_title (str): Title of the plot\n",
    "    Returns:\n",
    "        None\n",
    "    \"\"\"\n",
    "    fig, axs = plt.subplots(1, n)\n",
    "    fig.suptitle(plot_title, fontsize=20)\n",
    "\n",
    "    axs = axs.ravel()\n",
    "    for i, (img, y) in enumerate(zip(X[:n].reshape(n, 28, 28), y[:n])):\n",
    "        axs[i].axis('off')\n",
    "        axs[i].imshow(img, cmap=\"Greys_r\")\n",
    "        axs[i].set_title(y)\n",
    "        \n",
    "    fig.tight_layout()\n",
    "    fig.subplots_adjust(top=0.88)\n",
    "    plt.show()\n"
   ]
  },
  {
   "cell_type": "code",
   "execution_count": 12,
   "metadata": {
    "colab": {
     "base_uri": "https://localhost:8080/",
     "height": 108
    },
    "executionInfo": {
     "elapsed": 674,
     "status": "ok",
     "timestamp": 1631635674395,
     "user": {
      "displayName": "Darren White",
      "photoUrl": "https://lh3.googleusercontent.com/a/default-user=s64",
      "userId": "00026904046173700318"
     },
     "user_tz": -60
    },
    "id": "pXPWmHkx1ZxQ",
    "outputId": "ff98077f-16f5-4fe3-e54b-2b263fbf90a3"
   },
   "outputs": [
    {
     "data": {
      "image/png": "[encoded data removed]",
      "text/plain": [
       "<Figure size 432x288 with 6 Axes>"
      ]
     },
     "metadata": {
      "needs_background": "light"
     },
     "output_type": "display_data"
    }
   ],
   "source": [
    "plot_example(X=X_train, y=y_train, n=6, plot_title=\"Training Data\")"
   ]
  },
  {
   "cell_type": "markdown",
   "metadata": {
    "id": "DMUf6oQ7FA3D"
   },
   "source": [
    "## Building a Number Classifier from the MNIST Database"
   ]
  },
  {
   "cell_type": "markdown",
   "metadata": {
    "id": "3bML2jtXFTo-"
   },
   "source": [
    "A Bayesian Multinomial Logistic Regression (BMLR) shall be built to classify the handwritten numbers in the MNIST Database.\n",
    "\n",
    "Multinomial logistic regression is a classifiaction technique that is used to predict the category of an input or the probability of its membership to a category. This is calculated based on multiple independent variables that are either binary or continuous. Multinomial logistic regression allows for the dependent variable to be part of more than two categories (Czepiel, n.d.)(Carpita, et al., 2014).\n",
    "\n",
    "To build the classifier we must first understand its basic construction. The formula for BMLR is:  \n",
    "\n",
    "$Pr(Y_{ik} = Pr(Y_i = k\\mid x_i; \\beta_1 , \\beta_2 , ..., \\beta_m) = \\frac{\\displaystyle\\exp(\\beta_{0k} + x_i \\beta_k)}{\\displaystyle\\sum_{j=1}^{m}\\exp(\\beta_{0j} + x_i\\beta_j)}$ with $k = 1,2,...$  \n",
    "\n",
    "where $\\beta_k$ is a row vector of regression coefficients of $x$ for the $k$th category of $y$  \n",
    "\n",
    "Since multinomial logistic regression is an expansion of binary logistic regression we will first define a binary model.  \n",
    "\n",
    "Logistic regression assumes that for a single data point $(x,y)$:  \n",
    "\n",
    "$P(Y = 1 \\mid X = x) = \\sigma(z)$ where $z = \\theta_0 + \\displaystyle\\sum_{i = 1}^{m} \\theta_i x_i$  \n",
    "\n",
    "where $\\theta$ is a vector of parameters of length $m$ the values of these parameters is found from $n$ training examples.  \n",
    "  \n",
    "This is equivalent to:  \n",
    "$P(Y =1 \\mid X = x) = \\sigma(\\theta^Tx)$  \n",
    "\n",
    "Maximum likelihood estimation (MLE) is used to choose the parameter values of the logistic regression. To do this we calculate the log-likelihood and find the values of $\\theta$ that maximise it.  \n",
    "  \n",
    "Since the predictions being made are binary we can define each label as a Bernoulli random variable. The probability of one data point can thus be written as:  \n",
    "\n",
    "$P(Y = y\\mid X=x) = \\sigma(\\theta^Tx)^y \\cdot [1 - \\sigma(\\theta^Tx)]^{(1-y)} $  \n",
    "\n",
    "The likelihood of all of the data is defined as follows:  \n",
    "\n",
    "The likelihood of the independent training labels:  \n",
    "\n",
    "$L(\\theta) = \\displaystyle\\prod_{i =1}^n P(Y = y^{(i)} \\mid X = x^{(i)})$  \n",
    "\n",
    "Using the likelihood of a Bernoulli we get  \n",
    "$L(\\theta) = \\displaystyle\\prod_{i =1}^n P(Y = y^{(i)} \\mid X = x^{(i)}) = \\displaystyle\\prod_{i=1}^n\\sigma(\\theta^Tx^{(i)})^{y^{(i)}} \\cdot [1-\\sigma(\\theta^Tx^{(i)})]^{(1-y^{(i)})}$  \n",
    "  \n",
    "Therefore the log-likelihood of the logistic regression is:  \n",
    "  \n",
    "$LL(\\theta) = \\displaystyle\\sum_{(i=1)}^ny^{(i)}\\log[\\sigma(\\theta^Tx^{(i)}) + (1 - y^{(i)}) \\log[1 - \\sigma(\\theta^Tx^{(i)})]$  \n",
    "  \n",
    "By using a partial derivative of each parameter we can find the values of $\\theta $ that maximise the log-likelihood.  \n",
    "\n",
    "The partial derivative of $LL(\\theta)$ is:  \n",
    "  \n",
    "$\\frac{\\partial LL(\\theta)}{\\partial\\theta_j} = \\displaystyle\\sum_{i=1}^n [y^{(i)} - \\sigma(\\theta^Tx^{(i)})]x^{(i)}_j$  \n",
    "\n",
    "Using this various optimisation techniques can be deployed to identify the maximum likelihood. A typical binary logistic regression might use gradient descent. However multinomial classifiers will likely use more sophisticated techniques (Monroe, 2017).\n",
    "  "
   ]
  },
  {
   "cell_type": "markdown",
   "metadata": {
    "id": "Li1nuS_J1pLi"
   },
   "source": [
    "## Classifier"
   ]
  },
  {
   "cell_type": "markdown",
   "metadata": {
    "id": "u2goMGfT1sa-"
   },
   "source": [
    "### Dataset Summary"
   ]
  },
  {
   "cell_type": "code",
   "execution_count": 13,
   "metadata": {
    "colab": {
     "base_uri": "https://localhost:8080/"
    },
    "executionInfo": {
     "elapsed": 34,
     "status": "ok",
     "timestamp": 1631635674396,
     "user": {
      "displayName": "Darren White",
      "photoUrl": "https://lh3.googleusercontent.com/a/default-user=s64",
      "userId": "00026904046173700318"
     },
     "user_tz": -60
    },
    "id": "iqinGk7m1vsX",
    "outputId": "b0adfa3e-ee15-4162-a901-3cf52f54b57a"
   },
   "outputs": [
    {
     "name": "stdout",
     "output_type": "stream",
     "text": [
      "Number of training examples = 52500\n",
      "Number of testing examples = 17500\n",
      "Image data shape = (784,)\n",
      "Number of classes = 10\n"
     ]
    }
   ],
   "source": [
    "# Number of training examples\n",
    "n_train =  len(X_train)\n",
    "\n",
    "# Number of testing examples.\n",
    "n_test = len(X_test)\n",
    "\n",
    "# Shape of an MNIST image\n",
    "image_shape =X_train[0].shape\n",
    "\n",
    "# unique classes/labels in the dataset.\n",
    "alltotal = set(y_train )\n",
    "\n",
    "# number of classes\n",
    "n_classes = len(alltotal )\n",
    "\n",
    "# print information\n",
    "print(\"Number of training examples =\", n_train)\n",
    "print(\"Number of testing examples =\", n_test)\n",
    "print(\"Image data shape =\", image_shape)\n",
    "print(\"Number of classes =\", n_classes)"
   ]
  },
  {
   "cell_type": "code",
   "execution_count": 14,
   "metadata": {
    "colab": {
     "base_uri": "https://localhost:8080/",
     "height": 295
    },
    "executionInfo": {
     "elapsed": 543,
     "status": "ok",
     "timestamp": 1631635674932,
     "user": {
      "displayName": "Darren White",
      "photoUrl": "https://lh3.googleusercontent.com/a/default-user=s64",
      "userId": "00026904046173700318"
     },
     "user_tz": -60
    },
    "id": "9nY1TDFE2Rhk",
    "outputId": "6db9fd0c-a34f-4e62-ba45-58eaaf341de9"
   },
   "outputs": [
    {
     "data": {
      "image/png": "[encoded data removed]",
      "text/plain": [
       "<Figure size 432x288 with 1 Axes>"
      ]
     },
     "metadata": {
      "needs_background": "light"
     },
     "output_type": "display_data"
    }
   ],
   "source": [
    "## plot histogram\n",
    "fig, ax = plt.subplots()\n",
    "# array with evenly spaced classes\n",
    "ind = np.arange(n_classes)\n",
    "\n",
    "# histogram\n",
    "n, bins, patches = ax.hist(y_train, n_classes)\n",
    "# horizontal axis label\n",
    "ax.set_xlabel('classes')\n",
    "# vertical axis label\n",
    "ax.set_ylabel('counts')\n",
    "# plot title\n",
    "ax.set_title(r'Histogram of MNIST images')\n",
    "# show plot\n",
    "plt.show()"
   ]
  },
  {
   "cell_type": "markdown",
   "metadata": {
    "id": "OLqUL0HemV2E"
   },
   "source": [
    "We can see from the histogram that we have a relatively balanced dataset which should create good conditions for classification"
   ]
  },
  {
   "cell_type": "markdown",
   "metadata": {
    "id": "KfH5kUvf6CYo"
   },
   "source": [
    "### Data Preparation"
   ]
  },
  {
   "cell_type": "code",
   "execution_count": 15,
   "metadata": {
    "executionInfo": {
     "elapsed": 92,
     "status": "ok",
     "timestamp": 1631635674934,
     "user": {
      "displayName": "Darren White",
      "photoUrl": "https://lh3.googleusercontent.com/a/default-user=s64",
      "userId": "00026904046173700318"
     },
     "user_tz": -60
    },
    "id": "VyaTPZWA6p7h"
   },
   "outputs": [],
   "source": [
    "# Seed the run for repeatability\n",
    "np.random.seed(0)\n",
    "\n",
    "# The number of instances we'll keep for each of our 3 digits:\n",
    "n_classes = 3\n",
    "classes = [3, 7, 9]\n",
    "N_per_class = 500\n",
    "\n",
    "X = []\n",
    "labels = []\n",
    "for d in classes:\n",
    "    imgs = X_train[np.where(y_train==d)[0],:]\n",
    "    X.append(imgs[np.random.permutation(imgs.shape[0]),:][0:N_per_class,:])\n",
    "    labels.append(np.ones(N_per_class)*d)\n",
    "\n",
    "X_train2 = np.vstack(X).astype(np.float64)\n",
    "y_train2 = np.hstack(labels)"
   ]
  },
  {
   "cell_type": "markdown",
   "metadata": {},
   "source": [
    "We select all images indices of each desired class from `X_train`, randomly arrange them and append the first `inst_class` of them to the `inputs` array."
   ]
  },
  {
   "cell_type": "code",
   "execution_count": 16,
   "metadata": {
    "colab": {
     "base_uri": "https://localhost:8080/"
    },
    "executionInfo": {
     "elapsed": 91,
     "status": "ok",
     "timestamp": 1631635674935,
     "user": {
      "displayName": "Darren White",
      "photoUrl": "https://lh3.googleusercontent.com/a/default-user=s64",
      "userId": "00026904046173700318"
     },
     "user_tz": -60
    },
    "id": "3zNSfVqV6z2V",
    "outputId": "3ca06729-ce4b-4448-d0cd-7af8d1f1a4a9"
   },
   "outputs": [
    {
     "name": "stdout",
     "output_type": "stream",
     "text": [
      "(1500, 784) (1500,)\n"
     ]
    }
   ],
   "source": [
    "print(X_train2.shape,y_train2.shape)"
   ]
  },
  {
   "cell_type": "code",
   "execution_count": 51,
   "metadata": {},
   "outputs": [],
   "source": [
    "# plot digits\n",
    "def plot_digits(instances, images_per_row=5, **options):\n",
    "    \"\"\"Plots images in rows\n",
    "    \n",
    "    Args:\n",
    "        instances (numpy array): Numpy array of image data\n",
    "        images_per_row (int): Number of images to print on each row\n",
    "    Returns:\n",
    "        None\n",
    "    \"\"\"\n",
    "    size = 28\n",
    "    images_per_row = min(len(instances), images_per_row)\n",
    "    images = [instance.reshape(size,size) for instance in instances]\n",
    "    n_rows = (len(instances) - 1) // images_per_row + 1\n",
    "    row_images = []\n",
    "    n_empty = n_rows * images_per_row - len(instances)\n",
    "    images.append(np.zeros((size, size * n_empty)))\n",
    "    for row in range(n_rows):\n",
    "        rimages = images[row * images_per_row : (row + 1) * images_per_row]\n",
    "        row_images.append(np.concatenate(rimages, axis=1))\n",
    "    image = np.concatenate(row_images, axis=0)\n",
    "    plt.imshow(image,  cmap='gist_yarg', **options)\n",
    "    plt.axis(\"off\")"
   ]
  },
  {
   "cell_type": "code",
   "execution_count": 52,
   "metadata": {},
   "outputs": [
    {
     "name": "stdout",
     "output_type": "stream",
     "text": [
      "[455, 292, 284, 255, 165, 466, 87, 203, 398, 533, 934, 569, 596, 822, 932, 849, 936, 654, 1335, 1135, 1285, 1195, 1349, 1421, 1050, 1145, 1447]\n"
     ]
    },
    {
     "data": {
      "text/plain": [
       "Text(0.5, 1.0, 'Original Image Samples')"
      ]
     },
     "execution_count": 52,
     "metadata": {},
     "output_type": "execute_result"
    },
    {
     "data": {
      "image/png": "[encoded data removed]",
      "text/plain": [
       "<Figure size 576x576 with 1 Axes>"
      ]
     },
     "metadata": {
      "needs_background": "light"
     },
     "output_type": "display_data"
    }
   ],
   "source": [
    "# Show random instances from each Digit:\n",
    "plt.figure(figsize=(8,8))\n",
    "\n",
    "# Selecting a few label indices from each of the 3 classes to show:\n",
    "n_sample = 9\n",
    "label_indices = []\n",
    "for i in range(n_classes):\n",
    "    label_indices += random.sample(range(i*N_per_class, (i+1)*N_per_class), n_sample)\n",
    "\n",
    "print(label_indices)\n",
    "# Plotting 'original' image\n",
    "plot_digits(X_train2[label_indices,:], images_per_row=9)\n",
    "plt.title(\"Original Image Samples\", fontsize=14)"
   ]
  },
  {
   "cell_type": "code",
   "execution_count": 19,
   "metadata": {
    "colab": {
     "base_uri": "https://localhost:8080/"
    },
    "executionInfo": {
     "elapsed": 61,
     "status": "ok",
     "timestamp": 1631635674936,
     "user": {
      "displayName": "Darren White",
      "photoUrl": "https://lh3.googleusercontent.com/a/default-user=s64",
      "userId": "00026904046173700318"
     },
     "user_tz": -60
    },
    "id": "yWiQhh7n69_a",
    "outputId": "b11701b9-7348-438f-a9c6-d4a0338aa5f1"
   },
   "outputs": [
    {
     "name": "stdout",
     "output_type": "stream",
     "text": [
      "(1200, 784)\n",
      "(300, 784)\n",
      "(1200,)\n",
      "(300,)\n"
     ]
    }
   ],
   "source": [
    "### we split the dataset in training and validation\n",
    "X_tr, X_val, y_tr, y_val = train_test_split(X_train2, y_train2, test_size=0.2, random_state=0)\n",
    "\n",
    "X_tr, y_tr = shuffle(X_tr, y_tr)\n",
    "\n",
    "print(X_tr.shape)\n",
    "print(X_val.shape)\n",
    "print(y_tr.shape)\n",
    "print(y_val.shape)"
   ]
  },
  {
   "cell_type": "code",
   "execution_count": 20,
   "metadata": {
    "colab": {
     "base_uri": "https://localhost:8080/"
    },
    "executionInfo": {
     "elapsed": 37,
     "status": "ok",
     "timestamp": 1631635674938,
     "user": {
      "displayName": "Darren White",
      "photoUrl": "https://lh3.googleusercontent.com/a/default-user=s64",
      "userId": "00026904046173700318"
     },
     "user_tz": -60
    },
    "id": "sMZL3KV97FDe",
    "outputId": "85ebb3db-42af-47cd-a08b-7b84c1fdf2eb"
   },
   "outputs": [
    {
     "name": "stdout",
     "output_type": "stream",
     "text": [
      "(1200, 784)\n",
      "(300, 784)\n",
      "(1200,)\n",
      "(300,)\n"
     ]
    }
   ],
   "source": [
    "# transform images into vectors  \n",
    "X_trv = X_tr.flatten().reshape(X_tr.shape[0],X_tr.shape[1])\n",
    "X_valv = X_val.flatten().reshape(X_val.shape[0],X_tr.shape[1])\n",
    "print(X_trv.shape)\n",
    "print(X_valv.shape)\n",
    "print(y_tr.shape)\n",
    "print(y_val.shape)"
   ]
  },
  {
   "cell_type": "markdown",
   "metadata": {
    "id": "Mp-Ebr2D7-1r"
   },
   "source": [
    "### Algorithm"
   ]
  },
  {
   "cell_type": "code",
   "execution_count": 21,
   "metadata": {
    "colab": {
     "base_uri": "https://localhost:8080/"
    },
    "executionInfo": {
     "elapsed": 772,
     "status": "ok",
     "timestamp": 1631635675696,
     "user": {
      "displayName": "Darren White",
      "photoUrl": "https://lh3.googleusercontent.com/a/default-user=s64",
      "userId": "00026904046173700318"
     },
     "user_tz": -60
    },
    "id": "QIztEV9U8Bg4",
    "outputId": "0bbfbc7b-7cd9-42b5-84aa-7ce77523ff87"
   },
   "outputs": [
    {
     "name": "stdout",
     "output_type": "stream",
     "text": [
      "Accuracy = 0.92\n"
     ]
    }
   ],
   "source": [
    "#General-recipe ML logistic regression\n",
    "clf = LogisticRegression(random_state=0, max_iter=2000, C=100, solver='lbfgs', multi_class='multinomial').fit(X_trv, y_tr)\n",
    "y_pred_logi = clf.predict(X_valv)\n",
    "y_pred_logi_prob = clf.predict_proba(X_valv)\n",
    "prob_classmax = np.max(y_pred_logi_prob,axis=1)\n",
    "print(\"Accuracy =\", accuracy_score(y_pred_logi, y_val))"
   ]
  },
  {
   "cell_type": "markdown",
   "metadata": {
    "id": "nmF6Pwf3nFfx"
   },
   "source": [
    "Accuracy achieved of 0.92 is relatively good.  \n",
    "We'll review the highest probablities for correctly and incorrectly classified images. "
   ]
  },
  {
   "cell_type": "code",
   "execution_count": 22,
   "metadata": {
    "colab": {
     "base_uri": "https://localhost:8080/"
    },
    "executionInfo": {
     "elapsed": 85,
     "status": "ok",
     "timestamp": 1631635675697,
     "user": {
      "displayName": "Darren White",
      "photoUrl": "https://lh3.googleusercontent.com/a/default-user=s64",
      "userId": "00026904046173700318"
     },
     "user_tz": -60
    },
    "id": "HSmbHIGz8vCe",
    "outputId": "a9f1883e-57cd-446d-bb45-ea31f002dffe"
   },
   "outputs": [
    {
     "name": "stdout",
     "output_type": "stream",
     "text": [
      "Probabilities of best scoring matches:\n",
      "[0.52755263 0.53651543 0.61147213 0.75729678 0.84315684 0.86164767\n",
      " 0.88587022 0.92341305 0.93858534 0.94589416 0.95209961 0.95804424\n",
      " 0.96446475 0.97066191 0.97541154 0.97773248 0.97777823 0.97854496\n",
      " 0.98038644 0.98251636 0.98474088 0.98546662 0.98731741 0.99084641\n",
      " 0.99120044 0.9921186  0.99227746 0.99236169 0.99389956 0.99499082\n",
      " 0.99529104 0.99585387 0.99606414 0.99622749 0.9963743  0.99659315\n",
      " 0.99674926 0.99678234 0.99759062 0.99772546 0.99773171 0.99826024\n",
      " 0.99869092 0.99869497 0.99892498 0.99910542 0.99923728 0.9993865\n",
      " 0.99941269 0.99943435 0.99964409 0.99966471 0.9997007  0.9997175\n",
      " 0.99972826 0.99977057 0.9997818  0.99982017 0.99982751 0.99984262\n",
      " 0.99986223 0.99989291 0.99989366 0.99989684 0.9999031  0.99990592\n",
      " 0.99990678 0.99991314 0.99991908 0.99992435 0.9999379  0.99993973\n",
      " 0.99994336 0.99994713 0.99994803 0.9999542  0.99995821 0.99996428\n",
      " 0.99996571 0.99996911 0.99996926 0.99997199 0.99997719 0.99997791\n",
      " 0.99997853 0.99998012 0.99998334 0.99998405 0.9999859  0.99998626\n",
      " 0.99998847 0.99998848 0.99998945 0.99999106 0.99999192 0.99999305\n",
      " 0.99999311 0.99999341 0.99999385 0.99999558 0.99999587 0.99999626\n",
      " 0.99999627 0.99999658 0.99999675 0.99999676 0.99999692 0.999997\n",
      " 0.99999711 0.99999734 0.99999742 0.99999772 0.99999786 0.999998\n",
      " 0.99999813 0.99999823 0.99999833 0.99999849 0.99999849 0.99999869\n",
      " 0.99999874 0.99999886 0.99999887 0.99999911 0.99999913 0.99999922\n",
      " 0.99999927 0.99999932 0.99999932 0.99999938 0.99999939 0.99999943\n",
      " 0.99999951 0.99999952 0.99999954 0.99999956 0.99999959 0.9999996\n",
      " 0.99999964 0.99999965 0.99999967 0.99999968 0.99999969 0.99999973\n",
      " 0.99999973 0.99999976 0.99999977 0.99999979 0.99999981 0.99999982\n",
      " 0.99999982 0.99999983 0.99999986 0.99999987 0.99999987 0.99999988\n",
      " 0.99999988 0.9999999  0.99999991 0.99999991 0.99999992 0.99999994\n",
      " 0.99999995 0.99999995 0.99999995 0.99999995 0.99999996 0.99999996\n",
      " 0.99999997 0.99999997 0.99999998 0.99999998 0.99999998 0.99999998\n",
      " 0.99999998 0.99999998 0.99999998 0.99999999 0.99999999 0.99999999\n",
      " 0.99999999 0.99999999 0.99999999 0.99999999 0.99999999 0.99999999\n",
      " 0.99999999 0.99999999 0.99999999 0.99999999 1.         1.\n",
      " 1.         1.         1.         1.         1.         1.\n",
      " 1.         1.         1.         1.         1.         1.\n",
      " 1.         1.         1.         1.         1.         1.\n",
      " 1.         1.         1.         1.         1.         1.\n",
      " 1.         1.         1.         1.         1.         1.\n",
      " 1.         1.         1.         1.         1.         1.\n",
      " 1.         1.         1.         1.         1.         1.\n",
      " 1.         1.         1.         1.         1.         1.\n",
      " 1.         1.         1.         1.         1.         1.\n",
      " 1.         1.         1.         1.         1.         1.\n",
      " 1.         1.         1.         1.         1.         1.\n",
      " 1.         1.         1.         1.         1.         1.\n",
      " 1.         1.         1.         1.         1.         1.\n",
      " 1.         1.         1.         1.         1.         1.        ]\n"
     ]
    }
   ],
   "source": [
    "# probability of general-recipe logistic regression in correct instances\n",
    "highest_prob_matches = np.sort(prob_classmax[y_val==y_pred_logi])\n",
    "print(f\"Probabilities of best scoring matches:\\n{highest_prob_matches}\")"
   ]
  },
  {
   "cell_type": "code",
   "execution_count": 23,
   "metadata": {
    "colab": {
     "base_uri": "https://localhost:8080/"
    },
    "executionInfo": {
     "elapsed": 64,
     "status": "ok",
     "timestamp": 1631635675700,
     "user": {
      "displayName": "Darren White",
      "photoUrl": "https://lh3.googleusercontent.com/a/default-user=s64",
      "userId": "00026904046173700318"
     },
     "user_tz": -60
    },
    "id": "rognqxRf8zLp",
    "outputId": "8023466a-3d7a-4f43-ec50-3e760b34a4b1"
   },
   "outputs": [
    {
     "name": "stdout",
     "output_type": "stream",
     "text": [
      "Probabilities of best scoring mismatches:\n",
      "[0.57017208 0.58908621 0.5966738  0.62079818 0.63602062 0.69950432\n",
      " 0.72635479 0.74412721 0.77734738 0.78849857 0.81360898 0.86038406\n",
      " 0.88517528 0.89706347 0.93157945 0.96972717 0.96976152 0.99619916\n",
      " 0.99638036 0.9974274  0.99901122 0.99945519 0.99999838 0.99999904]\n"
     ]
    }
   ],
   "source": [
    "# probability of general-recipe logistic regression in wrong instances\n",
    "highest_prob_mismatches = np.sort(prob_classmax[y_val!=y_pred_logi])\n",
    "print(f\"Probabilities of best scoring mismatches:\\n{highest_prob_mismatches}\")"
   ]
  },
  {
   "cell_type": "code",
   "execution_count": 24,
   "metadata": {},
   "outputs": [
    {
     "name": "stdout",
     "output_type": "stream",
     "text": [
      "Mismatch count above 99% probability : 7\n"
     ]
    }
   ],
   "source": [
    "mismatch_indices_gt_99 = np.intersect1d(np.where(y_val!=y_pred_logi), np.where(prob_classmax > 0.99))\n",
    "print(f\"Mismatch count above 99% probability : {len(mismatch_indices_gt_99)}\")"
   ]
  },
  {
   "cell_type": "code",
   "execution_count": 25,
   "metadata": {
    "colab": {
     "base_uri": "https://localhost:8080/"
    },
    "executionInfo": {
     "elapsed": 36,
     "status": "ok",
     "timestamp": 1631635675701,
     "user": {
      "displayName": "Darren White",
      "photoUrl": "https://lh3.googleusercontent.com/a/default-user=s64",
      "userId": "00026904046173700318"
     },
     "user_tz": -60
    },
    "id": "-U1387qI81dV",
    "outputId": "da2d32ac-6603-40bc-980f-74a2a7bd2892"
   },
   "outputs": [
    {
     "name": "stdout",
     "output_type": "stream",
     "text": [
      "Comparison of actual vs predicted: \n",
      "y_pred:7.0 y_val:9.0\n",
      "y_pred:7.0 y_val:9.0\n",
      "y_pred:9.0 y_val:7.0\n",
      "y_pred:9.0 y_val:7.0\n",
      "y_pred:7.0 y_val:9.0\n",
      "y_pred:9.0 y_val:7.0\n",
      "y_pred:7.0 y_val:9.0\n",
      "\n"
     ]
    },
    {
     "data": {
      "image/png": "[encoded data removed]",
      "text/plain": [
       "<Figure size 432x288 with 7 Axes>"
      ]
     },
     "metadata": {
      "needs_background": "light"
     },
     "output_type": "display_data"
    }
   ],
   "source": [
    "# Display mismatches above 99% probability\n",
    "display_cnt = len(mismatch_indices_gt_99)\n",
    "\n",
    "X_valv_mismatches = []\n",
    "y_val_mismatches = []\n",
    "y_pred_mismatches = []\n",
    "compare = 'Comparison of actual vs predicted: \\n'\n",
    "for idx in mismatch_indices_gt_99:\n",
    "    X_valv_mismatches.append(X_valv[idx])\n",
    "    y_val_mismatches.append(y_val[idx])\n",
    "    y_pred_mismatches.append(y_pred_logi[idx])\n",
    "    compare += \"y_pred:\"+str(y_pred_logi[idx])+\" y_val:\"+str(y_val[idx])+\"\\n\"\n",
    "\n",
    "X_valv_mismatches = np.array(X_valv_mismatches)\n",
    "y_val_mismatches = np.array(y_val_mismatches)\n",
    "y_pred_mismatches = np.array(y_pred_mismatches)\n",
    "\n",
    "print(compare)\n",
    "plot_example(X=X_valv_mismatches, y=y_pred_mismatches,\n",
    "             n=display_cnt, plot_title=\"Mismatches >99% probability (predictions labelled)\")"
   ]
  },
  {
   "cell_type": "markdown",
   "metadata": {},
   "source": [
    "We observe seven of the wrong predictions by logistic regression having a confidence above 99%. On reviewing the images it is difficult to understand how these have been labelled with such high confidence incorrectly. "
   ]
  },
  {
   "cell_type": "markdown",
   "metadata": {
    "id": "CyEP68FP9AJA"
   },
   "source": [
    "### Probabilistic ML"
   ]
  },
  {
   "cell_type": "code",
   "execution_count": 26,
   "metadata": {
    "executionInfo": {
     "elapsed": 730,
     "status": "ok",
     "timestamp": 1631635676421,
     "user": {
      "displayName": "Darren White",
      "photoUrl": "https://lh3.googleusercontent.com/a/default-user=s64",
      "userId": "00026904046173700318"
     },
     "user_tz": -60
    },
    "id": "yKPnYOK-9C7r"
   },
   "outputs": [],
   "source": [
    "import sklearn.preprocessing\n",
    "## We use LabelBinarizer to transfor classes into counts\n",
    "# neg_label=0, pos_label=1 \n",
    "y_2_bin = sklearn.preprocessing.LabelBinarizer().fit_transform(y_tr.reshape(-1,1))\n",
    "nf = X_trv.shape[1]\n",
    "# number of classes\n",
    "nc = len(classes)\n",
    "# floatX = float32\n",
    "floatX = tt.config.floatX\n",
    "\n",
    "init_b = np.random.randn(nf, nc-1).astype(floatX)\n",
    "init_a = np.random.randn(nc-1).astype(floatX)\n",
    "\n",
    "\n",
    "with pm.Model() as multi_logistic:\n",
    "    # Prior\n",
    "    β = pm.Normal('beta', 0, sigma=100, shape=(nf, nc-1), testval=init_b)\n",
    "    α = pm.Normal('alpha', 0, sigma=100, shape=(nc-1,), testval=init_a)\n",
    "    \n",
    "    # we need to consider nc-1 features because the model is not identifiable\n",
    "    # the softmax turns a vector into a probability that sums up to one\n",
    "    # therefore we add zeros to go back to dimension nc\n",
    "    # so that softmax returns a vector of dimension nc\n",
    "    β1  = tt.tensor.concatenate([np.zeros((nf,1)),β ],axis=1)\n",
    "    α1  = tt.tensor.concatenate([[0],α ],)\n",
    "    \n",
    "    # Likelihood\n",
    "    mu = pm.math.matrix_dot(X_trv,β1) + α1\n",
    "    # It doesn't work if the problem is binary\n",
    "    p = tt.tensor.nnet.nnet.softmax(mu)\n",
    "    observed = pm.Multinomial('likelihood', p=p, n=1, observed=y_2_bin)"
   ]
  },
  {
   "cell_type": "code",
   "execution_count": 27,
   "metadata": {
    "colab": {
     "base_uri": "https://localhost:8080/"
    },
    "executionInfo": {
     "elapsed": 10,
     "status": "ok",
     "timestamp": 1631635676423,
     "user": {
      "displayName": "Darren White",
      "photoUrl": "https://lh3.googleusercontent.com/a/default-user=s64",
      "userId": "00026904046173700318"
     },
     "user_tz": -60
    },
    "id": "kq7qBOKf9cBd",
    "outputId": "7937ca04-9114-48ad-81da-d08f637d4e67"
   },
   "outputs": [
    {
     "data": {
      "text/plain": [
       "array([[0, 0, 1],\n",
       "       [0, 0, 1],\n",
       "       [1, 0, 0],\n",
       "       ...,\n",
       "       [0, 1, 0],\n",
       "       [1, 0, 0],\n",
       "       [1, 0, 0]])"
      ]
     },
     "execution_count": 27,
     "metadata": {},
     "output_type": "execute_result"
    }
   ],
   "source": [
    "y_2_bin"
   ]
  },
  {
   "cell_type": "code",
   "execution_count": 28,
   "metadata": {
    "colab": {
     "base_uri": "https://localhost:8080/",
     "height": 54
    },
    "executionInfo": {
     "elapsed": 18129,
     "status": "ok",
     "timestamp": 1631635694546,
     "user": {
      "displayName": "Darren White",
      "photoUrl": "https://lh3.googleusercontent.com/a/default-user=s64",
      "userId": "00026904046173700318"
     },
     "user_tz": -60
    },
    "id": "fv6SGT0J9gZ6",
    "outputId": "a47fd310-c1c0-4e12-926a-1f56769cd87d"
   },
   "outputs": [
    {
     "data": {
      "text/html": [
       "\n",
       "    <div>\n",
       "        <style>\n",
       "            /* Turns off some styling */\n",
       "            progress {\n",
       "                /* gets rid of default border in Firefox and Opera. */\n",
       "                border: none;\n",
       "                /* Needs to be in here for Safari polyfill so background images work as expected. */\n",
       "                background-size: auto;\n",
       "            }\n",
       "            .progress-bar-interrupted, .progress-bar-interrupted::-webkit-progress-bar {\n",
       "                background: #F44336;\n",
       "            }\n",
       "        </style>\n",
       "      <progress value='3000' class='' max='3000' style='width:300px; height:20px; vertical-align: middle;'></progress>\n",
       "      100.00% [3000/3000 00:04<00:00 Average Loss = 8,181.9]\n",
       "    </div>\n",
       "    "
      ],
      "text/plain": [
       "<IPython.core.display.HTML object>"
      ]
     },
     "metadata": {},
     "output_type": "display_data"
    },
    {
     "name": "stderr",
     "output_type": "stream",
     "text": [
      "Finished [100%]: Average Loss = 8,174\n"
     ]
    }
   ],
   "source": [
    "with multi_logistic:\n",
    "    #approx = pm.fit(300000, method='advi') # takes longer\n",
    "    approx = pm.fit(3000, method='advi')"
   ]
  },
  {
   "cell_type": "code",
   "execution_count": 29,
   "metadata": {
    "colab": {
     "base_uri": "https://localhost:8080/",
     "height": 282
    },
    "executionInfo": {
     "elapsed": 457,
     "status": "ok",
     "timestamp": 1631635694997,
     "user": {
      "displayName": "Darren White",
      "photoUrl": "https://lh3.googleusercontent.com/a/default-user=s64",
      "userId": "00026904046173700318"
     },
     "user_tz": -60
    },
    "id": "XNVUaAdu9juL",
    "outputId": "6ae0df6d-b330-44fc-b701-d13e035b79d7"
   },
   "outputs": [
    {
     "data": {
      "text/plain": [
       "[<matplotlib.lines.Line2D at 0x7fce2b3e5510>]"
      ]
     },
     "execution_count": 29,
     "metadata": {},
     "output_type": "execute_result"
    },
    {
     "data": {
      "image/png": "[encoded data removed]",
      "text/plain": [
       "<Figure size 432x288 with 1 Axes>"
      ]
     },
     "metadata": {
      "needs_background": "light"
     },
     "output_type": "display_data"
    }
   ],
   "source": [
    "plt.plot(approx.hist)"
   ]
  },
  {
   "cell_type": "code",
   "execution_count": 30,
   "metadata": {
    "executionInfo": {
     "elapsed": 346,
     "status": "ok",
     "timestamp": 1631635695339,
     "user": {
      "displayName": "Darren White",
      "photoUrl": "https://lh3.googleusercontent.com/a/default-user=s64",
      "userId": "00026904046173700318"
     },
     "user_tz": -60
    },
    "id": "g1Jv3NFJBQI5"
   },
   "outputs": [],
   "source": [
    "dd = 300\n",
    "posterior = approx.sample(draws=dd)"
   ]
  },
  {
   "cell_type": "code",
   "execution_count": 31,
   "metadata": {
    "colab": {
     "base_uri": "https://localhost:8080/",
     "height": 244
    },
    "executionInfo": {
     "elapsed": 10,
     "status": "ok",
     "timestamp": 1631635695340,
     "user": {
      "displayName": "Darren White",
      "photoUrl": "https://lh3.googleusercontent.com/a/default-user=s64",
      "userId": "00026904046173700318"
     },
     "user_tz": -60
    },
    "id": "KqmwFEv_BUTS",
    "outputId": "0455e8d9-1928-4aed-80ec-cd95f6e1ea82"
   },
   "outputs": [
    {
     "name": "stdout",
     "output_type": "stream",
     "text": [
      "test image #10\n",
      "posterior sample #100\n",
      "true class= 9.0\n",
      "classes: [3, 7, 9]\n",
      "estimated prob= [0.00002865 0.00000066 0.99997069]\n"
     ]
    },
    {
     "data": {
      "image/png": "[encoded data removed]",
      "text/plain": [
       "<Figure size 144x144 with 1 Axes>"
      ]
     },
     "metadata": {
      "needs_background": "light"
     },
     "output_type": "display_data"
    }
   ],
   "source": [
    "## The softmax function transforms each element of a collection by computing the exponential\n",
    "#  of each element divided by the sum of the exponentials of all the elements.\n",
    "from scipy.special import softmax\n",
    "\n",
    "#select an image in the test set\n",
    "i = 10 \n",
    "#i = random.randint(0, dd)\n",
    "\n",
    "#select a sample in the posterior\n",
    "s = 100 \n",
    "#s = random.randint(0, dd)\n",
    "\n",
    "\n",
    "beta  = np.hstack([np.zeros((nf,1)),  posterior['beta'][s,:] ])\n",
    "alpha = np.hstack([[0],  posterior['alpha'][s,:] ])\n",
    "image = X_valv[i,:].reshape(28,28)\n",
    "plt.figure(figsize=(2,2))\n",
    "plt.imshow(image,cmap=\"Greys_r\")\n",
    "np.set_printoptions(suppress=True)\n",
    "\n",
    "print(\"test image #\" + str(i))\n",
    "print(\"posterior sample #\" + str(s))\n",
    "print(\"true class=\", y_val[i])\n",
    "print(\"classes: \" + str(classes))\n",
    "print(\"estimated prob=\",softmax((np.array([X_valv[i,:].dot(beta) + alpha])))[0,:])"
   ]
  },
  {
   "cell_type": "code",
   "execution_count": 32,
   "metadata": {
    "executionInfo": {
     "elapsed": 69549,
     "status": "ok",
     "timestamp": 1631635764884,
     "user": {
      "displayName": "Darren White",
      "photoUrl": "https://lh3.googleusercontent.com/a/default-user=s64",
      "userId": "00026904046173700318"
     },
     "user_tz": -60
    },
    "id": "wIMOsax3BZRD"
   },
   "outputs": [],
   "source": [
    "# Bayesian prediction\n",
    "# return the class that has the highest posterior probability\n",
    "y_pred_Bayesian=[]\n",
    "\n",
    "for i in range(X_valv.shape[0]):\n",
    "    val=np.zeros((1,len(classes)))\n",
    "    \n",
    "    for s in range(posterior['beta'].shape[0]):\n",
    "        beta = np.hstack([np.zeros((nf,1)),  posterior['beta'][s,:] ])\n",
    "        alpha = np.hstack([[0],  posterior['alpha'][s,:] ])     \n",
    "        val = val + softmax((np.array([X_valv[i,:].dot(beta) + alpha])))\n",
    "    \n",
    "    mean_probability = val/posterior['beta'].shape[0]\n",
    "    y_pred_Bayesian.append( np.argmax(mean_probability))"
   ]
  },
  {
   "cell_type": "code",
   "execution_count": 33,
   "metadata": {
    "colab": {
     "base_uri": "https://localhost:8080/"
    },
    "executionInfo": {
     "elapsed": 87,
     "status": "ok",
     "timestamp": 1631635764889,
     "user": {
      "displayName": "Darren White",
      "photoUrl": "https://lh3.googleusercontent.com/a/default-user=s64",
      "userId": "00026904046173700318"
     },
     "user_tz": -60
    },
    "id": "eEKoIi00Be5S",
    "outputId": "1c8ab8b2-6a1b-483f-d740-72c880336895"
   },
   "outputs": [
    {
     "name": "stdout",
     "output_type": "stream",
     "text": [
      "[0, 0, 2, 0, 2, 2, 1, 1, 0, 2, 2, 2, 2, 0, 1, 1, 2, 2, 0, 2, 0, 1, 0, 0, 2, 2, 1, 1, 1, 2, 2, 0, 2, 1, 2, 2, 0, 1, 0, 0, 2, 2, 2, 2, 0, 1, 2, 1, 1, 2, 1, 2, 1, 2, 1, 2, 1, 1, 2, 2, 0, 0, 2, 0, 1, 1, 2, 2, 0, 2, 0, 0, 1, 2, 0, 1, 1, 0, 0, 2, 2, 0, 0, 0, 1, 0, 2, 0, 1, 0, 1, 1, 0, 0, 2, 2, 2, 0, 0, 1, 2, 2, 0, 1, 2, 1, 0, 0, 1, 2, 0, 0, 0, 0, 2, 1, 0, 2, 1, 1, 0, 1, 0, 2, 1, 1, 0, 0, 2, 1, 1, 1, 0, 2, 1, 0, 0, 0, 2, 1, 0, 1, 1, 1, 0, 0, 2, 0, 2, 0, 0, 2, 0, 1, 1, 1, 2, 0, 1, 1, 2, 1, 0, 2, 2, 1, 1, 2, 0, 0, 0, 2, 2, 0, 1, 0, 0, 2, 2, 1, 2, 0, 1, 2, 1, 0, 1, 0, 0, 0, 0, 2, 2, 0, 1, 0, 2, 0, 0, 0, 0, 0, 1, 0, 1, 0, 0, 0, 1, 1, 2, 1, 0, 2, 2, 0, 2, 1, 1, 2, 1, 0, 1, 1, 0, 0, 2, 2, 0, 0, 1, 2, 2, 1, 1, 1, 2, 2, 0, 2, 1, 0, 1, 2, 0, 2, 2, 0, 2, 0, 2, 1, 0, 1, 1, 2, 0, 2, 1, 2, 0, 2, 1, 0, 1, 1, 2, 1, 1, 2, 2, 2, 2, 2, 2, 2, 2, 0, 0, 2, 2, 2, 1, 1, 2, 1, 2, 1, 2, 0, 2, 1, 0, 1, 0, 1, 1, 1, 2, 0]\n"
     ]
    }
   ],
   "source": [
    "print(y_pred_Bayesian)"
   ]
  },
  {
   "cell_type": "code",
   "execution_count": 34,
   "metadata": {
    "colab": {
     "base_uri": "https://localhost:8080/"
    },
    "executionInfo": {
     "elapsed": 82,
     "status": "ok",
     "timestamp": 1631635764890,
     "user": {
      "displayName": "Darren White",
      "photoUrl": "https://lh3.googleusercontent.com/a/default-user=s64",
      "userId": "00026904046173700318"
     },
     "user_tz": -60
    },
    "id": "ZGii-HgvBh85",
    "outputId": "282883cd-c437-4056-84f5-08995694a477"
   },
   "outputs": [
    {
     "name": "stdout",
     "output_type": "stream",
     "text": [
      "[3, 7, 9]\n"
     ]
    }
   ],
   "source": [
    "# recall the classes we are using\n",
    "print(classes)"
   ]
  },
  {
   "cell_type": "code",
   "execution_count": 35,
   "metadata": {
    "colab": {
     "base_uri": "https://localhost:8080/"
    },
    "executionInfo": {
     "elapsed": 55,
     "status": "ok",
     "timestamp": 1631635764892,
     "user": {
      "displayName": "Darren White",
      "photoUrl": "https://lh3.googleusercontent.com/a/default-user=s64",
      "userId": "00026904046173700318"
     },
     "user_tz": -60
    },
    "id": "Wo84veQwBkc5",
    "outputId": "78d31e65-1dec-4d7c-f794-4d8c80437d5a"
   },
   "outputs": [
    {
     "data": {
      "text/plain": [
       "array([3, 3, 9, 3, 9, 9, 7, 7, 3, 9])"
      ]
     },
     "execution_count": 35,
     "metadata": {},
     "output_type": "execute_result"
    }
   ],
   "source": [
    "# prediction array (using classes)\n",
    "nn = 10 # just an example\n",
    "np.array(classes)[y_pred_Bayesian[0:nn]]"
   ]
  },
  {
   "cell_type": "code",
   "execution_count": 36,
   "metadata": {
    "colab": {
     "base_uri": "https://localhost:8080/"
    },
    "executionInfo": {
     "elapsed": 34,
     "status": "ok",
     "timestamp": 1631635764893,
     "user": {
      "displayName": "Darren White",
      "photoUrl": "https://lh3.googleusercontent.com/a/default-user=s64",
      "userId": "00026904046173700318"
     },
     "user_tz": -60
    },
    "id": "4YVBVmzkBmot",
    "outputId": "76e808a2-e39a-488f-996f-b47bbdf55be0"
   },
   "outputs": [
    {
     "name": "stdout",
     "output_type": "stream",
     "text": [
      "Accuracy= 0.9166666666666666\n"
     ]
    }
   ],
   "source": [
    "# using validation: y_val\n",
    "print(\"Accuracy=\", accuracy_score(np.array(classes)[y_pred_Bayesian], y_val))"
   ]
  },
  {
   "cell_type": "markdown",
   "metadata": {
    "id": "ZWJjkLHWBtKt"
   },
   "source": [
    "### Selecting Differences"
   ]
  },
  {
   "cell_type": "code",
   "execution_count": 37,
   "metadata": {
    "executionInfo": {
     "elapsed": 69282,
     "status": "ok",
     "timestamp": 1631635834165,
     "user": {
      "displayName": "Darren White",
      "photoUrl": "https://lh3.googleusercontent.com/a/default-user=s64",
      "userId": "00026904046173700318"
     },
     "user_tz": -60
    },
    "id": "s9WCYDa-tk8l"
   },
   "outputs": [],
   "source": [
    "y_predB=[]\n",
    "\n",
    "for i in range(X_valv.shape[0]):\n",
    "    #print(i)\n",
    "    val=[]\n",
    "\n",
    "    for s in range(posterior['beta'].shape[0]):\n",
    "        beta = np.hstack([np.zeros((nf,1)),  posterior['beta'][s,:] ])\n",
    "        alpha = np.hstack([[0],  posterior['alpha'][s,:] ])\n",
    "        val.append(softmax((np.array([X_valv[i,:].dot(beta) + alpha])))[0,:])\n",
    "\n",
    "    #mean probability\n",
    "    valmean = np.mean(val,axis=0)\n",
    "    #class with maximum mean probability\n",
    "    classmax = np.argmax(valmean)\n",
    "    #ranks\n",
    "    ranks = np.array(val.copy())\n",
    "    ranks   = ranks  *0 #init\n",
    "    colmax = np.argmax(np.array(val),axis=1)\n",
    "    ranks[np.arange(0,len(colmax)),colmax]=1\n",
    "     \n",
    "    y_predB.append( [classmax, valmean[classmax], np.std(ranks,axis=0)[classmax]])\n",
    "\n",
    "    \n",
    "y_predB= np.array(y_predB)"
   ]
  },
  {
   "cell_type": "code",
   "execution_count": 38,
   "metadata": {
    "colab": {
     "base_uri": "https://localhost:8080/"
    },
    "executionInfo": {
     "elapsed": 96,
     "status": "ok",
     "timestamp": 1631635834169,
     "user": {
      "displayName": "Darren White",
      "photoUrl": "https://lh3.googleusercontent.com/a/default-user=s64",
      "userId": "00026904046173700318"
     },
     "user_tz": -60
    },
    "id": "t7dX7OUOtuG1",
    "outputId": "c134f32d-2031-4dac-85e7-5c7c40ca02c9"
   },
   "outputs": [
    {
     "data": {
      "text/plain": [
       "array([[0.        , 0.93509831, 0.23120458],\n",
       "       [0.        , 0.98528846, 0.09949874],\n",
       "       [2.        , 0.97060625, 0.16110728],\n",
       "       [0.        , 0.99974178, 0.        ],\n",
       "       [2.        , 0.99333511, 0.08137704],\n",
       "       [2.        , 0.71312014, 0.43679387],\n",
       "       [1.        , 0.90824207, 0.2712932 ],\n",
       "       [1.        , 0.56740507, 0.49459299],\n",
       "       [0.        , 0.99808243, 0.        ],\n",
       "       [2.        , 0.99705787, 0.05763872]])"
      ]
     },
     "execution_count": 38,
     "metadata": {},
     "output_type": "execute_result"
    }
   ],
   "source": [
    "# prediction array\n",
    "mm = 10\n",
    "y_predB[0:mm,:]"
   ]
  },
  {
   "cell_type": "code",
   "execution_count": 39,
   "metadata": {
    "colab": {
     "base_uri": "https://localhost:8080/"
    },
    "executionInfo": {
     "elapsed": 93,
     "status": "ok",
     "timestamp": 1631635834170,
     "user": {
      "displayName": "Darren White",
      "photoUrl": "https://lh3.googleusercontent.com/a/default-user=s64",
      "userId": "00026904046173700318"
     },
     "user_tz": -60
    },
    "id": "ZpvRcdEftwxB",
    "outputId": "1b5433ed-02fd-4b17-ddb9-eb1bc4b8ef57"
   },
   "outputs": [
    {
     "data": {
      "text/plain": [
       "array([[1.        , 0.49347163, 0.5       ],\n",
       "       [1.        , 0.49283542, 0.5       ],\n",
       "       [1.        , 0.49736277, 0.5       ],\n",
       "       [0.        , 0.49060068, 0.49998889],\n",
       "       [0.        , 0.50515329, 0.49998889],\n",
       "       [1.        , 0.51319648, 0.49972215],\n",
       "       [0.        , 0.52852565, 0.49972215],\n",
       "       [1.        , 0.52501305, 0.49959984],\n",
       "       [1.        , 0.51003827, 0.49945526],\n",
       "       [2.        , 0.51602926, 0.49945526]])"
      ]
     },
     "execution_count": 39,
     "metadata": {},
     "output_type": "execute_result"
    }
   ],
   "source": [
    "#sorting in descending order\n",
    "difficult = np.argsort(-y_predB[:,2])\n",
    "y_predB[difficult[0:mm],:]"
   ]
  },
  {
   "cell_type": "code",
   "execution_count": 40,
   "metadata": {
    "colab": {
     "base_uri": "https://localhost:8080/"
    },
    "executionInfo": {
     "elapsed": 70,
     "status": "ok",
     "timestamp": 1631635834170,
     "user": {
      "displayName": "Darren White",
      "photoUrl": "https://lh3.googleusercontent.com/a/default-user=s64",
      "userId": "00026904046173700318"
     },
     "user_tz": -60
    },
    "id": "RaeEmnBStzqJ",
    "outputId": "f93bb51f-5e5b-47d0-fed1-8ae79f4ea0ec"
   },
   "outputs": [
    {
     "data": {
      "text/plain": [
       "array([0.81360898, 0.96976152, 0.99999838, 0.99638036, 0.58908621,\n",
       "       0.72635479, 0.88517528, 0.9974274 , 0.62079818, 0.99619916,\n",
       "       0.96972717, 0.69950432, 0.5966738 , 0.57017208, 0.99945519,\n",
       "       0.99901122, 0.78849857, 0.93157945, 0.89706347, 0.77734738,\n",
       "       0.99999904, 0.63602062, 0.74412721, 0.86038406])"
      ]
     },
     "execution_count": 40,
     "metadata": {},
     "output_type": "execute_result"
    }
   ],
   "source": [
    "#probability of general-recipe logistic regression in wrong instances\n",
    "prob_classmax[y_pred_logi != y_val]"
   ]
  },
  {
   "cell_type": "code",
   "execution_count": 41,
   "metadata": {
    "colab": {
     "base_uri": "https://localhost:8080/"
    },
    "executionInfo": {
     "elapsed": 50,
     "status": "ok",
     "timestamp": 1631635834171,
     "user": {
      "displayName": "Darren White",
      "photoUrl": "https://lh3.googleusercontent.com/a/default-user=s64",
      "userId": "00026904046173700318"
     },
     "user_tz": -60
    },
    "id": "Z00irz7rt4Jm",
    "outputId": "6b8cce72-3621-4876-f74b-e36c02e26dde"
   },
   "outputs": [
    {
     "data": {
      "text/plain": [
       "array([[2.        , 0.73541659, 0.43492017],\n",
       "       [2.        , 0.78483169, 0.41647996],\n",
       "       [1.        , 0.5729571 , 0.49300665],\n",
       "       [2.        , 0.99998172, 0.        ],\n",
       "       [2.        , 0.97945073, 0.14      ],\n",
       "       [2.        , 0.7778295 , 0.40730824],\n",
       "       [0.        , 0.92235056, 0.26606181],\n",
       "       [2.        , 0.88264001, 0.3       ],\n",
       "       [1.        , 0.52501305, 0.49959984],\n",
       "       [2.        , 0.81091077, 0.36966952],\n",
       "       [2.        , 0.72734097, 0.43679387],\n",
       "       [2.        , 0.74262147, 0.42909465],\n",
       "       [0.        , 0.84658555, 0.33993463],\n",
       "       [2.        , 0.52709658, 0.49839743],\n",
       "       [1.        , 0.57414375, 0.49300665],\n",
       "       [2.        , 0.78379876, 0.41647996],\n",
       "       [2.        , 0.59510816, 0.49056657],\n",
       "       [2.        , 0.53700767, 0.49811868],\n",
       "       [0.        , 0.71379168, 0.45220448],\n",
       "       [2.        , 0.75270779, 0.42708313],\n",
       "       [1.        , 0.97857461, 0.14      ],\n",
       "       [2.        , 0.84323656, 0.36660606],\n",
       "       [0.        , 0.79745699, 0.38138636],\n",
       "       [0.        , 0.82646541, 0.3756328 ]])"
      ]
     },
     "execution_count": 41,
     "metadata": {},
     "output_type": "execute_result"
    }
   ],
   "source": [
    "y_predB[y_pred_logi != y_val,:]"
   ]
  },
  {
   "cell_type": "code",
   "execution_count": 42,
   "metadata": {
    "colab": {
     "base_uri": "https://localhost:8080/"
    },
    "executionInfo": {
     "elapsed": 31,
     "status": "ok",
     "timestamp": 1631635834172,
     "user": {
      "displayName": "Darren White",
      "photoUrl": "https://lh3.googleusercontent.com/a/default-user=s64",
      "userId": "00026904046173700318"
     },
     "user_tz": -60
    },
    "id": "2U5cl_nyt9Js",
    "outputId": "1fd6cf07-0524-467b-86a5-1656528c63c6"
   },
   "outputs": [
    {
     "name": "stdout",
     "output_type": "stream",
     "text": [
      "Accuracy in easy instances = 0.97\n",
      "Accuracy in difficult instances = 0.82\n"
     ]
    }
   ],
   "source": [
    "## Difficult & easy instances\n",
    "\n",
    "easy = np.argsort(y_predB[:,2])\n",
    "print(\"Accuracy in easy instances =\", accuracy_score(y_pred_logi[easy[0:100]], y_val[easy[0:100]]))\n",
    "\n",
    "difficult = np.argsort(-y_predB[:,2])\n",
    "print(\"Accuracy in difficult instances =\", accuracy_score(y_pred_logi[difficult[0:100]], y_val[difficult[0:100]]))"
   ]
  },
  {
   "cell_type": "code",
   "execution_count": 43,
   "metadata": {
    "colab": {
     "base_uri": "https://localhost:8080/",
     "height": 357
    },
    "executionInfo": {
     "elapsed": 274,
     "status": "ok",
     "timestamp": 1631635834437,
     "user": {
      "displayName": "Darren White",
      "photoUrl": "https://lh3.googleusercontent.com/a/default-user=s64",
      "userId": "00026904046173700318"
     },
     "user_tz": -60
    },
    "id": "jN8qV0K5uHuJ",
    "outputId": "ed69a15c-82ad-419b-8e73-759fe1d67841"
   },
   "outputs": [
    {
     "data": {
      "image/png": "[encoded data removed]",
      "text/plain": [
       "<Figure size 1080x432 with 10 Axes>"
      ]
     },
     "metadata": {
      "needs_background": "light"
     },
     "output_type": "display_data"
    }
   ],
   "source": [
    "# show 10 random 'easy' images\n",
    "fig, axs = plt.subplots(2,5, figsize=(15, 6))\n",
    "fig.subplots_adjust(hspace = .2, wspace=.001)\n",
    "axs = axs.ravel()\n",
    "\n",
    "for i in range(10):\n",
    "    index = easy[i]\n",
    "    image = X_valv[index,:].reshape(28,28)\n",
    "    axs[i].axis('off')\n",
    "    axs[i].imshow(image,cmap=\"Greys_r\")"
   ]
  },
  {
   "cell_type": "code",
   "execution_count": 44,
   "metadata": {
    "colab": {
     "base_uri": "https://localhost:8080/",
     "height": 357
    },
    "executionInfo": {
     "elapsed": 699,
     "status": "ok",
     "timestamp": 1631635835130,
     "user": {
      "displayName": "Darren White",
      "photoUrl": "https://lh3.googleusercontent.com/a/default-user=s64",
      "userId": "00026904046173700318"
     },
     "user_tz": -60
    },
    "id": "ymCkcCd5uQqX",
    "outputId": "c05c8ee8-539f-4456-bc41-1f06bd80f848"
   },
   "outputs": [
    {
     "data": {
      "image/png": "[encoded data removed]",
      "text/plain": [
       "<Figure size 1080x432 with 10 Axes>"
      ]
     },
     "metadata": {
      "needs_background": "light"
     },
     "output_type": "display_data"
    }
   ],
   "source": [
    "# show 10 random 'difficult' images\n",
    "fig, axs = plt.subplots(2,5, figsize=(15, 6))\n",
    "fig.subplots_adjust(hspace = .2, wspace=.001)\n",
    "axs = axs.ravel()\n",
    "for i in range(10):\n",
    "    index = difficult[i]\n",
    "    image = X_valv[index,:].reshape(28,28)\n",
    "    axs[i].axis('off')\n",
    "    axs[i].imshow(image,cmap=\"Greys_r\")"
   ]
  },
  {
   "cell_type": "code",
   "execution_count": 45,
   "metadata": {
    "colab": {
     "base_uri": "https://localhost:8080/",
     "height": 357
    },
    "executionInfo": {
     "elapsed": 536,
     "status": "ok",
     "timestamp": 1631635835662,
     "user": {
      "displayName": "Darren White",
      "photoUrl": "https://lh3.googleusercontent.com/a/default-user=s64",
      "userId": "00026904046173700318"
     },
     "user_tz": -60
    },
    "id": "F6w8RdzHujYn",
    "outputId": "684f3176-67a6-4908-8ac2-6e44a3184a51"
   },
   "outputs": [
    {
     "data": {
      "image/png": "[encoded data removed]",
      "text/plain": [
       "<Figure size 1080x432 with 10 Axes>"
      ]
     },
     "metadata": {
      "needs_background": "light"
     },
     "output_type": "display_data"
    }
   ],
   "source": [
    "# show 10 random 'easy' images\n",
    "fig, axs = plt.subplots(2,5, figsize=(15, 6))\n",
    "fig.subplots_adjust(hspace = .2, wspace=.001)\n",
    "axs = axs.ravel()\n",
    "\n",
    "for i in range(10):\n",
    "    index = easy[i]\n",
    "    image = X_valv[index,:].reshape(28,28)\n",
    "    axs[i].axis('off')\n",
    "    axs[i].imshow(image,cmap=\"Greys_r\")"
   ]
  },
  {
   "cell_type": "markdown",
   "metadata": {
    "id": "nt5Zl_FTr85k"
   },
   "source": [
    "Predicted answers - easy"
   ]
  },
  {
   "cell_type": "code",
   "execution_count": 46,
   "metadata": {
    "colab": {
     "base_uri": "https://localhost:8080/",
     "height": 108
    },
    "executionInfo": {
     "elapsed": 709,
     "status": "ok",
     "timestamp": 1631635836365,
     "user": {
      "displayName": "Darren White",
      "photoUrl": "https://lh3.googleusercontent.com/a/default-user=s64",
      "userId": "00026904046173700318"
     },
     "user_tz": -60
    },
    "id": "DbiJiQ10186I",
    "outputId": "553ebd78-3f56-4823-abe3-d275c0053982"
   },
   "outputs": [
    {
     "data": {
      "image/png": "[encoded data removed]",
      "text/plain": [
       "<Figure size 432x288 with 6 Axes>"
      ]
     },
     "metadata": {
      "needs_background": "light"
     },
     "output_type": "display_data"
    }
   ],
   "source": [
    "plot_example(X=X_valv[easy], y=y_pred_logi[easy], n=6, plot_title=\"Predicted easy examples\")"
   ]
  },
  {
   "cell_type": "markdown",
   "metadata": {
    "id": "7xFWXez8r_qJ"
   },
   "source": [
    "Actual answers - easy"
   ]
  },
  {
   "cell_type": "code",
   "execution_count": 47,
   "metadata": {
    "colab": {
     "base_uri": "https://localhost:8080/",
     "height": 108
    },
    "executionInfo": {
     "elapsed": 13,
     "status": "ok",
     "timestamp": 1631635836367,
     "user": {
      "displayName": "Darren White",
      "photoUrl": "https://lh3.googleusercontent.com/a/default-user=s64",
      "userId": "00026904046173700318"
     },
     "user_tz": -60
    },
    "id": "b6zLOBR-Byfz",
    "outputId": "5f31a0a9-967c-463c-efaf-abd16b77b3f6"
   },
   "outputs": [
    {
     "data": {
      "image/png": "[encoded data removed]",
      "text/plain": [
       "<Figure size 432x288 with 6 Axes>"
      ]
     },
     "metadata": {
      "needs_background": "light"
     },
     "output_type": "display_data"
    }
   ],
   "source": [
    "plot_example(X=X_valv[easy], y=y_val[easy], n=6, plot_title=\"Actual easy examples\")"
   ]
  },
  {
   "cell_type": "markdown",
   "metadata": {
    "id": "6wVDByZ5r1JG"
   },
   "source": [
    "Predicted answers - difficult"
   ]
  },
  {
   "cell_type": "code",
   "execution_count": 48,
   "metadata": {
    "colab": {
     "base_uri": "https://localhost:8080/",
     "height": 108
    },
    "executionInfo": {
     "elapsed": 13,
     "status": "ok",
     "timestamp": 1631635836369,
     "user": {
      "displayName": "Darren White",
      "photoUrl": "https://lh3.googleusercontent.com/a/default-user=s64",
      "userId": "00026904046173700318"
     },
     "user_tz": -60
    },
    "id": "amtsd9n2345w",
    "outputId": "af65b2e5-996d-4aaa-8674-ae6cb2478a6a"
   },
   "outputs": [
    {
     "data": {
      "image/png": "[encoded data removed]",
      "text/plain": [
       "<Figure size 432x288 with 6 Axes>"
      ]
     },
     "metadata": {
      "needs_background": "light"
     },
     "output_type": "display_data"
    }
   ],
   "source": [
    "plot_example(X=X_valv[difficult], y=y_pred_logi[difficult], n=6, plot_title=\"Predicted Answers - difficult\" )"
   ]
  },
  {
   "cell_type": "markdown",
   "metadata": {
    "id": "gfjX9xq3rt7O"
   },
   "source": [
    "Actual answers - difficult"
   ]
  },
  {
   "cell_type": "code",
   "execution_count": 49,
   "metadata": {
    "colab": {
     "base_uri": "https://localhost:8080/",
     "height": 108
    },
    "executionInfo": {
     "elapsed": 362,
     "status": "ok",
     "timestamp": 1631635836720,
     "user": {
      "displayName": "Darren White",
      "photoUrl": "https://lh3.googleusercontent.com/a/default-user=s64",
      "userId": "00026904046173700318"
     },
     "user_tz": -60
    },
    "id": "j4aJi2zEB8W-",
    "outputId": "d9ab40a6-5cfa-4a23-d190-7d62ae42597c"
   },
   "outputs": [
    {
     "data": {
      "image/png": "[encoded data removed]",
      "text/plain": [
       "<Figure size 432x288 with 6 Axes>"
      ]
     },
     "metadata": {
      "needs_background": "light"
     },
     "output_type": "display_data"
    }
   ],
   "source": [
    "plot_example(X=X_valv[difficult], y=y_val[difficult], n=6, plot_title=\"Actual Answers - Difficult\")"
   ]
  },
  {
   "cell_type": "markdown",
   "metadata": {
    "id": "cKdZq8dBrqkk"
   },
   "source": [
    "# Summary"
   ]
  },
  {
   "cell_type": "markdown",
   "metadata": {
    "id": "y-kHBpxV59Oa"
   },
   "source": [
    "We have developed a Bayesian classification model that accuracy classifies the MNIST Database using the lbfgs optimiser. The lbfgs optimiser is a limited memory algorithm used for solving optimisation problems in nonlinear problems. This was developed by Ciyou Zhu, Richard H. Byrd, Peihuang Lu and Jorge Nocedal in 1994.\n",
    "\n",
    "We have been able to achieve an accuracy level of 92% which is relatively high. However, using large convolutional neural network other researchers have achieved accuracy rates above 99%.\n"
   ]
  },
  {
   "cell_type": "markdown",
   "metadata": {
    "id": "5cY2PiRFrjv1"
   },
   "source": [
    "# References"
   ]
  },
  {
   "cell_type": "markdown",
   "metadata": {
    "id": "vV7aIaOjqWil"
   },
   "source": [
    "## Bibliography\n",
    "Böhning, D., 1992. Multinomial logistic regression algorithm. Annals of the Institute of Statistical Mathematics, Volume 44, pp. 197-200.\n",
    "\n",
    "Carpita, M., Sandri, M., Simonetto, A. & Zuccolotto, P., 2014. Chapter 14 - Football Mining with R. In: Y. Zhao & Y. Cen, eds. Data Mining Applications with R. s.l.:Academic Press, pp. 397-433.\n",
    "\n",
    "Czepiel, S. A., n.d. Maximum Likelihood Estimation of Logistic Regression Models: Theory and Implementation. [Online] \n",
    "Available at: https://czep.net/stat/mlelr.pdf\n",
    "[Accessed 12 September 2021].\n",
    "\n",
    "Koehrsen, W., 2018. Introduction to Bayesian Linear Regression. [Online] \n",
    "Available at: https://towardsdatascience.com/introduction-to-bayesian-linear-regression-e66e60791ea7\n",
    "[Accessed 12 September 2021].\n",
    "\n",
    "Monroe, W., 2017. Stanford.edu. [Online] \n",
    "Available at: https://web.stanford.edu/class/archive/cs/cs109/cs109.1178/lectureHandouts/220-logistic-regression.pdf\n",
    "[Accessed 12 September 2021].\n",
    "\n",
    "Scikit, 2021. sklearn.linear_model.LogisticRegression. [Online] \n",
    "Available at: https://scikit-learn.org/stable/modules/generated/sklearn.linear_model.LogisticRegression.html\n",
    "[Accessed 12 September 2021].\n",
    "\n",
    "Sperandei, S., 2014. Understanding logistic regression analysis. Biochem med, 24(1), pp. 12-18.\n",
    "Starkweather, J. & Moske, A. K., 2011. Multinomial Logistic Regression. [Online] \n",
    "Available at: https://it.unt.edu/sites/default/files/mlr_jds_aug2011.pdf\n",
    "[Accessed 14 September 2021].\n",
    "\n"
   ]
  },
  {
   "cell_type": "code",
   "execution_count": null,
   "metadata": {},
   "outputs": [],
   "source": []
  }
 ],
 "metadata": {
  "colab": {
   "authorship_tag": "ABX9TyOI3qAitWmGJDJn91J3rfRJ",
   "collapsed_sections": [],
   "name": "Etivity1.2.ipynb",
   "provenance": []
  },
  "kernelspec": {
   "display_name": "Python 3",
   "language": "python",
   "name": "python3"
  },
  "language_info": {
   "codemirror_mode": {
    "name": "ipython",
    "version": 3
   },
   "file_extension": ".py",
   "mimetype": "text/x-python",
   "name": "python",
   "nbconvert_exporter": "python",
   "pygments_lexer": "ipython3",
   "version": "3.7.7"
  }
 },
 "nbformat": 4,
 "nbformat_minor": 1
}
